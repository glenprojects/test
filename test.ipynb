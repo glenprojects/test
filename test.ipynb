{
 "cells": [
  {
   "cell_type": "code",
   "execution_count": null,
   "metadata": {},
   "outputs": [],
   "source": []
  },
  {
   "cell_type": "markdown",
   "metadata": {},
   "source": [
    "## `Business Understanding`\n",
    "\n",
    "This dataset provides insights into data engineer salaries and employment attributes for the year 2024. It includes information such as salary, job title, experience level, employment type, employee residence, remote work ratio, company location, and company size.\n",
    "\n",
    "The dataset allows for analysis of salary trends, employment patterns, and geographic variations in data engineering roles. It can be used by researchers, analysts, and organizations to understand the evolving landscape of data engineering employment and compensation.\n"
   ]
  },
  {
   "cell_type": "markdown",
   "metadata": {},
   "source": [
    "##### **Null Hypothesis (H0):** There are no significant differences in salaries among the groups (levels) of the factor being tested.\n",
    "\n",
    "\n",
    "##### **Alternative Hypothesis (H1):** There are significant differences in salaries among the groups (levels) of the factor being tested."
   ]
  },
  {
   "cell_type": "markdown",
   "metadata": {},
   "source": [
    "## `Data Understanding`\n",
    "Feature Description:\n",
    "##### **work_year:** The year in which the data was collected (2024).\n",
    "\n",
    "\n",
    "##### **experience_level:** The experience level of the employee, categorized as SE (Senior Engineer), MI (Mid-Level Engineer), or EL (Entry-Level Engineer).\n",
    "\n",
    "\n",
    "##### **employment_type:** The type of employment, such as full-time (FT), part-time (PT), contract (C), or freelance (F).\n",
    "\n",
    "\n",
    "##### **job_title:** The title or role of the employee within the company, for example, AI Engineer.\n",
    "\n",
    "##### **salary:** The salary of the employee in the local currency (e.g., 202,730 USD).\n",
    "\n",
    "\n",
    "##### **salary_currency:** The currency in which the salary is denominated (e.g., USD).\n",
    "\n",
    "\n",
    "##### **salary_in_usd:** The salary converted to US dollars for standardization purposes.\n",
    "\n",
    "##### **employee_residence:** The country of residence of the employee.\n",
    "\n",
    "\n",
    "##### **remote_ratio:** The ratio indicating the extent of remote work allowed in the position (0 for no remote work, 1 for fully remote).\n",
    "\n",
    "\n",
    "##### **company_location:** The location of the company where the employee is employed.\n",
    "\n",
    "##### **company_size:** The size of the company, often categorized by the number of employees (S for small, M for medium, L for large).\n"
   ]
  },
  {
   "cell_type": "markdown",
   "metadata": {},
   "source": [
    "##### **Analytical Questions**\n",
    "\n",
    "1. How is salary spread? What's the mean, standard deviation, and median?\n",
    "\n",
    "2. Can a salary trend be observed amongst data science roles?\n",
    "3. In which country do data specialists earn the highest?\n",
    "4. Which job title is paid the most?\n",
    "5. How does experience affect the salary?"
   ]
  },
  {
   "cell_type": "markdown",
   "metadata": {},
   "source": [
    "# Loading the data"
   ]
  },
  {
   "cell_type": "code",
   "execution_count": 28,
   "metadata": {},
   "outputs": [],
   "source": [
    "import pandas as pd\n",
    "import matplotlib.pyplot as plt\n",
    "import seaborn as sns\n",
    "from matplotlib import rcParams"
   ]
  },
  {
   "cell_type": "code",
   "execution_count": 29,
   "metadata": {},
   "outputs": [],
   "source": [
    "df = pd.read_csv('salaries.csv')"
   ]
  },
  {
   "cell_type": "code",
   "execution_count": 30,
   "metadata": {},
   "outputs": [
    {
     "data": {
      "text/html": [
       "<div>\n",
       "<style scoped>\n",
       "    .dataframe tbody tr th:only-of-type {\n",
       "        vertical-align: middle;\n",
       "    }\n",
       "\n",
       "    .dataframe tbody tr th {\n",
       "        vertical-align: top;\n",
       "    }\n",
       "\n",
       "    .dataframe thead th {\n",
       "        text-align: right;\n",
       "    }\n",
       "</style>\n",
       "<table border=\"1\" class=\"dataframe\">\n",
       "  <thead>\n",
       "    <tr style=\"text-align: right;\">\n",
       "      <th></th>\n",
       "      <th>work_year</th>\n",
       "      <th>experience_level</th>\n",
       "      <th>employment_type</th>\n",
       "      <th>job_title</th>\n",
       "      <th>salary</th>\n",
       "      <th>salary_currency</th>\n",
       "      <th>salary_in_usd</th>\n",
       "      <th>employee_residence</th>\n",
       "      <th>remote_ratio</th>\n",
       "      <th>company_location</th>\n",
       "      <th>company_size</th>\n",
       "    </tr>\n",
       "  </thead>\n",
       "  <tbody>\n",
       "    <tr>\n",
       "      <th>0</th>\n",
       "      <td>2024</td>\n",
       "      <td>SE</td>\n",
       "      <td>FT</td>\n",
       "      <td>AI Engineer</td>\n",
       "      <td>202730</td>\n",
       "      <td>USD</td>\n",
       "      <td>202730</td>\n",
       "      <td>US</td>\n",
       "      <td>0</td>\n",
       "      <td>US</td>\n",
       "      <td>M</td>\n",
       "    </tr>\n",
       "    <tr>\n",
       "      <th>1</th>\n",
       "      <td>2024</td>\n",
       "      <td>SE</td>\n",
       "      <td>FT</td>\n",
       "      <td>AI Engineer</td>\n",
       "      <td>92118</td>\n",
       "      <td>USD</td>\n",
       "      <td>92118</td>\n",
       "      <td>US</td>\n",
       "      <td>0</td>\n",
       "      <td>US</td>\n",
       "      <td>M</td>\n",
       "    </tr>\n",
       "    <tr>\n",
       "      <th>2</th>\n",
       "      <td>2024</td>\n",
       "      <td>SE</td>\n",
       "      <td>FT</td>\n",
       "      <td>Data Engineer</td>\n",
       "      <td>130500</td>\n",
       "      <td>USD</td>\n",
       "      <td>130500</td>\n",
       "      <td>US</td>\n",
       "      <td>0</td>\n",
       "      <td>US</td>\n",
       "      <td>M</td>\n",
       "    </tr>\n",
       "    <tr>\n",
       "      <th>3</th>\n",
       "      <td>2024</td>\n",
       "      <td>SE</td>\n",
       "      <td>FT</td>\n",
       "      <td>Data Engineer</td>\n",
       "      <td>96000</td>\n",
       "      <td>USD</td>\n",
       "      <td>96000</td>\n",
       "      <td>US</td>\n",
       "      <td>0</td>\n",
       "      <td>US</td>\n",
       "      <td>M</td>\n",
       "    </tr>\n",
       "    <tr>\n",
       "      <th>4</th>\n",
       "      <td>2024</td>\n",
       "      <td>SE</td>\n",
       "      <td>FT</td>\n",
       "      <td>Machine Learning Engineer</td>\n",
       "      <td>190000</td>\n",
       "      <td>USD</td>\n",
       "      <td>190000</td>\n",
       "      <td>US</td>\n",
       "      <td>0</td>\n",
       "      <td>US</td>\n",
       "      <td>M</td>\n",
       "    </tr>\n",
       "  </tbody>\n",
       "</table>\n",
       "</div>"
      ],
      "text/plain": [
       "   work_year experience_level employment_type                  job_title  \\\n",
       "0       2024               SE              FT                AI Engineer   \n",
       "1       2024               SE              FT                AI Engineer   \n",
       "2       2024               SE              FT              Data Engineer   \n",
       "3       2024               SE              FT              Data Engineer   \n",
       "4       2024               SE              FT  Machine Learning Engineer   \n",
       "\n",
       "   salary salary_currency  salary_in_usd employee_residence  remote_ratio  \\\n",
       "0  202730             USD         202730                 US             0   \n",
       "1   92118             USD          92118                 US             0   \n",
       "2  130500             USD         130500                 US             0   \n",
       "3   96000             USD          96000                 US             0   \n",
       "4  190000             USD         190000                 US             0   \n",
       "\n",
       "  company_location company_size  \n",
       "0               US            M  \n",
       "1               US            M  \n",
       "2               US            M  \n",
       "3               US            M  \n",
       "4               US            M  "
      ]
     },
     "execution_count": 30,
     "metadata": {},
     "output_type": "execute_result"
    }
   ],
   "source": [
    "df.head()"
   ]
  },
  {
   "cell_type": "markdown",
   "metadata": {},
   "source": [
    "# Exploring the data"
   ]
  },
  {
   "cell_type": "markdown",
   "metadata": {},
   "source": [
    "### Data cleaning "
   ]
  },
  {
   "cell_type": "code",
   "execution_count": 31,
   "metadata": {},
   "outputs": [
    {
     "name": "stdout",
     "output_type": "stream",
     "text": [
      "work_year             0\n",
      "experience_level      0\n",
      "employment_type       0\n",
      "job_title             0\n",
      "salary                0\n",
      "salary_currency       0\n",
      "salary_in_usd         0\n",
      "employee_residence    0\n",
      "remote_ratio          0\n",
      "company_location      0\n",
      "company_size          0\n",
      "dtype: int64 \n",
      "----------------------------------------------\n",
      "6421  Duplicates\n",
      "----------------------------------------------\n",
      "<class 'pandas.core.frame.DataFrame'>\n",
      "RangeIndex: 16534 entries, 0 to 16533\n",
      "Data columns (total 11 columns):\n",
      " #   Column              Non-Null Count  Dtype \n",
      "---  ------              --------------  ----- \n",
      " 0   work_year           16534 non-null  int64 \n",
      " 1   experience_level    16534 non-null  object\n",
      " 2   employment_type     16534 non-null  object\n",
      " 3   job_title           16534 non-null  object\n",
      " 4   salary              16534 non-null  int64 \n",
      " 5   salary_currency     16534 non-null  object\n",
      " 6   salary_in_usd       16534 non-null  int64 \n",
      " 7   employee_residence  16534 non-null  object\n",
      " 8   remote_ratio        16534 non-null  int64 \n",
      " 9   company_location    16534 non-null  object\n",
      " 10  company_size        16534 non-null  object\n",
      "dtypes: int64(4), object(7)\n",
      "memory usage: 1.4+ MB\n"
     ]
    }
   ],
   "source": [
    "# Is the data clean?\n",
    "print(df.isna().sum(),\"\\n----------------------------------------------\") # Are there any missing values?\n",
    "print(df.duplicated().sum(),\" Duplicates\\n----------------------------------------------\") # Are there any duplicaetes?\n",
    "df.info() # Is data type for each column valid? "
   ]
  },
  {
   "cell_type": "markdown",
   "metadata": {},
   "source": [
    "df.describe"
   ]
  },
  {
   "cell_type": "code",
   "execution_count": 6,
   "metadata": {},
   "outputs": [
    {
     "data": {
      "text/html": [
       "<div>\n",
       "<style scoped>\n",
       "    .dataframe tbody tr th:only-of-type {\n",
       "        vertical-align: middle;\n",
       "    }\n",
       "\n",
       "    .dataframe tbody tr th {\n",
       "        vertical-align: top;\n",
       "    }\n",
       "\n",
       "    .dataframe thead th {\n",
       "        text-align: right;\n",
       "    }\n",
       "</style>\n",
       "<table border=\"1\" class=\"dataframe\">\n",
       "  <thead>\n",
       "    <tr style=\"text-align: right;\">\n",
       "      <th></th>\n",
       "      <th>count</th>\n",
       "      <th>mean</th>\n",
       "      <th>std</th>\n",
       "      <th>min</th>\n",
       "      <th>25%</th>\n",
       "      <th>50%</th>\n",
       "      <th>75%</th>\n",
       "      <th>max</th>\n",
       "    </tr>\n",
       "  </thead>\n",
       "  <tbody>\n",
       "    <tr>\n",
       "      <th>work_year</th>\n",
       "      <td>16534.0</td>\n",
       "      <td>2023.226866</td>\n",
       "      <td>0.713558</td>\n",
       "      <td>2020.0</td>\n",
       "      <td>2023.0</td>\n",
       "      <td>2023.0</td>\n",
       "      <td>2024.0</td>\n",
       "      <td>2024.0</td>\n",
       "    </tr>\n",
       "    <tr>\n",
       "      <th>salary</th>\n",
       "      <td>16534.0</td>\n",
       "      <td>163726.962683</td>\n",
       "      <td>340205.744183</td>\n",
       "      <td>14000.0</td>\n",
       "      <td>101763.0</td>\n",
       "      <td>142200.0</td>\n",
       "      <td>187200.0</td>\n",
       "      <td>30400000.0</td>\n",
       "    </tr>\n",
       "    <tr>\n",
       "      <th>salary_in_usd</th>\n",
       "      <td>16534.0</td>\n",
       "      <td>149686.777973</td>\n",
       "      <td>68505.293156</td>\n",
       "      <td>15000.0</td>\n",
       "      <td>101125.0</td>\n",
       "      <td>141300.0</td>\n",
       "      <td>185900.0</td>\n",
       "      <td>800000.0</td>\n",
       "    </tr>\n",
       "    <tr>\n",
       "      <th>remote_ratio</th>\n",
       "      <td>16534.0</td>\n",
       "      <td>32.003750</td>\n",
       "      <td>46.245158</td>\n",
       "      <td>0.0</td>\n",
       "      <td>0.0</td>\n",
       "      <td>0.0</td>\n",
       "      <td>100.0</td>\n",
       "      <td>100.0</td>\n",
       "    </tr>\n",
       "  </tbody>\n",
       "</table>\n",
       "</div>"
      ],
      "text/plain": [
       "                 count           mean            std      min       25%  \\\n",
       "work_year      16534.0    2023.226866       0.713558   2020.0    2023.0   \n",
       "salary         16534.0  163726.962683  340205.744183  14000.0  101763.0   \n",
       "salary_in_usd  16534.0  149686.777973   68505.293156  15000.0  101125.0   \n",
       "remote_ratio   16534.0      32.003750      46.245158      0.0       0.0   \n",
       "\n",
       "                    50%       75%         max  \n",
       "work_year        2023.0    2024.0      2024.0  \n",
       "salary         142200.0  187200.0  30400000.0  \n",
       "salary_in_usd  141300.0  185900.0    800000.0  \n",
       "remote_ratio        0.0     100.0       100.0  "
      ]
     },
     "execution_count": 6,
     "metadata": {},
     "output_type": "execute_result"
    }
   ],
   "source": [
    "df.describe().T"
   ]
  },
  {
   "cell_type": "code",
   "execution_count": 24,
   "metadata": {},
   "outputs": [
    {
     "data": {
      "text/plain": [
       "(16534, 11)"
      ]
     },
     "execution_count": 24,
     "metadata": {},
     "output_type": "execute_result"
    }
   ],
   "source": [
    "df.shape"
   ]
  },
  {
   "cell_type": "code",
   "execution_count": 25,
   "metadata": {},
   "outputs": [
    {
     "data": {
      "text/plain": [
       "work_year                5\n",
       "experience_level         4\n",
       "employment_type          4\n",
       "job_title              155\n",
       "salary                2560\n",
       "salary_currency         23\n",
       "salary_in_usd         2939\n",
       "employee_residence      88\n",
       "remote_ratio             3\n",
       "company_location        77\n",
       "company_size             3\n",
       "dtype: int64"
      ]
     },
     "execution_count": 25,
     "metadata": {},
     "output_type": "execute_result"
    }
   ],
   "source": [
    "df.nunique()"
   ]
  },
  {
   "cell_type": "code",
   "execution_count": 32,
   "metadata": {},
   "outputs": [],
   "source": [
    "# drop salary and salary_currency not nessessary \n",
    "df.drop(['salary','salary_currency'], axis=1, inplace=True)"
   ]
  },
  {
   "cell_type": "code",
   "execution_count": 33,
   "metadata": {},
   "outputs": [],
   "source": [
    "# Optimizing the data\n",
    "df[['experience_level','employment_type','job_title','employee_residence','company_size']] = df[['experience_level','employment_type','job_title','employee_residence','company_size']].astype('category')"
   ]
  },
  {
   "cell_type": "code",
   "execution_count": 34,
   "metadata": {},
   "outputs": [],
   "source": [
    "# Taking closer look at the duplicates\n",
    "df[df.duplicated(keep=False)].sort_values(by='salary_in_usd').head(25)\n",
    "\n",
    "# It might be that a company hires multiple people for a position.\n",
    "# Hence, I will assume that the duplicates are an expected occurrence.\n",
    "# However, to get more precise image of the salaries I'm going to exclude the duplicates\n",
    "# to obtain salary per position per company.\n",
    "df.drop_duplicates(inplace=True)"
   ]
  },
  {
   "cell_type": "code",
   "execution_count": 35,
   "metadata": {},
   "outputs": [
    {
     "data": {
      "text/plain": [
       "array(['US', 'AU', 'GB', 'CA', 'NL', 'LT', 'DK', 'FR', 'ZA', 'NZ', 'AR',\n",
       "       'ES', 'KE', 'LV', 'IN', 'DE', 'IL', 'FI', 'AT', 'BR', 'CH', 'AE',\n",
       "       'PL', 'SA', 'UA', 'EG', 'PH', 'TR', 'OM', 'MX', 'PT', 'BA', 'IT',\n",
       "       'AS', 'IE', 'EE', 'MT', 'HU', 'LB', 'RO', 'VN', 'NG', 'LU', 'GI',\n",
       "       'CO', 'SI', 'GR', 'MU', 'RU', 'KR', 'CZ', 'QA', 'GH', 'SE', 'AD',\n",
       "       'EC', 'NO', 'JP', 'HK', 'CF', 'SG', 'TH', 'HR', 'AM', 'PK', 'IR',\n",
       "       'BS', 'PR', 'BE', 'ID', 'MY', 'HN', 'DZ', 'IQ', 'CN', 'CL', 'MD'],\n",
       "      dtype=object)"
      ]
     },
     "execution_count": 35,
     "metadata": {},
     "output_type": "execute_result"
    }
   ],
   "source": [
    "# Locations of companies\n",
    "df['company_location'].unique()"
   ]
  },
  {
   "cell_type": "code",
   "execution_count": 36,
   "metadata": {},
   "outputs": [
    {
     "data": {
      "text/plain": [
       "['AI Engineer', 'Data Engineer', 'Machine Learning Engineer', 'ML Engineer', 'Data Analyst', ..., 'Principal Data Architect', 'Data Analytics Engineer', 'Cloud Data Architect', 'Lead Data Engineer', 'Principal Data Analyst']\n",
       "Length: 155\n",
       "Categories (155, object): ['AI Architect', 'AI Developer', 'AI Engineer', 'AI Product Manager', ..., 'Software Data Engineer', 'Staff Data Analyst', 'Staff Data Scientist', 'Staff Machine Learning Engineer']"
      ]
     },
     "execution_count": 36,
     "metadata": {},
     "output_type": "execute_result"
    }
   ],
   "source": [
    "df['job_title'].unique()\n",
    "\n",
    "# There are over 155 job titles! Let's limit the research to the top 10 most frequent job titles."
   ]
  },
  {
   "cell_type": "code",
   "execution_count": 16,
   "metadata": {},
   "outputs": [
    {
     "data": {
      "text/plain": [
       "Data Engineer                3464\n",
       "Data Scientist               3314\n",
       "Data Analyst                 2440\n",
       "Machine Learning Engineer    1705\n",
       "Research Scientist            531\n",
       "Applied Scientist             435\n",
       "Data Architect                435\n",
       "Analytics Engineer            431\n",
       "Research Engineer             306\n",
       "Data Science                  271\n",
       "Name: job_title, dtype: int64"
      ]
     },
     "execution_count": 16,
     "metadata": {},
     "output_type": "execute_result"
    }
   ],
   "source": [
    "top_10_titles = df['job_title'].value_counts().iloc[:10]\n",
    "top_10_titles"
   ]
  },
  {
   "cell_type": "code",
   "execution_count": 18,
   "metadata": {},
   "outputs": [
    {
     "data": {
      "text/plain": [
       "['Data Engineer', 'Machine Learning Engineer', 'Data Analyst', 'Data Scientist', 'Applied Scientist', 'Data Architect', 'Research Scientist', 'Data Science', 'Analytics Engineer', 'Research Engineer']\n",
       "Categories (155, object): ['AI Architect', 'AI Developer', 'AI Engineer', 'AI Product Manager', ..., 'Software Data Engineer', 'Staff Data Analyst', 'Staff Data Scientist', 'Staff Machine Learning Engineer']"
      ]
     },
     "execution_count": 18,
     "metadata": {},
     "output_type": "execute_result"
    }
   ],
   "source": [
    "top_10_data = df.loc[df.job_title.isin(top_10_titles.index)]\n",
    "top_10_data.job_title.unique()\n",
    "# Now I've got a dataframe with with the top 10 most frequent job titles"
   ]
  },
  {
   "cell_type": "code",
   "execution_count": 19,
   "metadata": {},
   "outputs": [
    {
     "name": "stdout",
     "output_type": "stream",
     "text": [
      "<class 'pandas.core.frame.DataFrame'>\n",
      "Int64Index: 13332 entries, 2 to 16531\n",
      "Data columns (total 11 columns):\n",
      " #   Column              Non-Null Count  Dtype   \n",
      "---  ------              --------------  -----   \n",
      " 0   work_year           13332 non-null  int64   \n",
      " 1   experience_level    13332 non-null  category\n",
      " 2   employment_type     13332 non-null  category\n",
      " 3   job_title           13332 non-null  category\n",
      " 4   salary              13332 non-null  int64   \n",
      " 5   salary_currency     13332 non-null  object  \n",
      " 6   salary_in_usd       13332 non-null  int64   \n",
      " 7   employee_residence  13332 non-null  category\n",
      " 8   remote_ratio        13332 non-null  int64   \n",
      " 9   company_location    13332 non-null  object  \n",
      " 10  company_size        13332 non-null  category\n",
      "dtypes: category(5), int64(4), object(2)\n",
      "memory usage: 815.8+ KB\n"
     ]
    }
   ],
   "source": [
    "top_10_data.info()"
   ]
  },
  {
   "cell_type": "code",
   "execution_count": 12,
   "metadata": {},
   "outputs": [
    {
     "name": "stdout",
     "output_type": "stream",
     "text": [
      "0.0\n",
      "0.0\n",
      "0.0\n",
      "0.0\n",
      "Significant factors with p-values below 0.05: ['experience_level', 'employment_type', 'remote_ratio', 'company_size']\n"
     ]
    }
   ],
   "source": [
    "# hypothesis: salary\n",
    "\n",
    "import statsmodels.api as sm\n",
    "from statsmodels.formula.api import ols\n",
    "\n",
    "# Define threshold\n",
    "threshold = 0.05\n",
    "\n",
    "# Perform ANOVA for each factor\n",
    "factors = ['experience_level', 'employment_type', 'remote_ratio', 'company_size']\n",
    "p_values = {}\n",
    "\n",
    "for factor in factors:\n",
    "    # Fit ANOVA model\n",
    "    model = ols('salary_in_usd ~ {}'.format(factor), data=df).fit()\n",
    "    anova_table = sm.stats.anova_lm(model, typ=2)\n",
    "    \n",
    "    # Extract p-value\n",
    "    p_value = anova_table['PR(>F)'][0]\n",
    "    \n",
    "    # Convert p-value to decimal\n",
    "    p_value_decimal = round(float(p_value), 2)\n",
    "    print(p_value_decimal)\n",
    "    \n",
    "    # Store p-value\n",
    "    p_values[factor] = p_value_decimal\n",
    "\n",
    "# Compare p-values against threshold\n",
    "significant_factors = [factor for factor, p_value in p_values.items() if p_value < threshold]\n",
    "\n",
    "print(\"Significant factors with p-values below {}: {}\".format(threshold, significant_factors))\n"
   ]
  }
 ],
 "metadata": {
  "kernelspec": {
   "display_name": "base",
   "language": "python",
   "name": "python3"
  },
  "language_info": {
   "codemirror_mode": {
    "name": "ipython",
    "version": 3
   },
   "file_extension": ".py",
   "mimetype": "text/x-python",
   "name": "python",
   "nbconvert_exporter": "python",
   "pygments_lexer": "ipython3",
   "version": "3.9.13"
  }
 },
 "nbformat": 4,
 "nbformat_minor": 2
}
